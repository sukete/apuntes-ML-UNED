{
 "cells": [
  {
   "cell_type": "markdown",
   "id": "a45bc34f-c237-4261-925b-39c857519ae7",
   "metadata": {},
   "source": [
    "# ARBOLES DE DECISION"
   ]
  },
  {
   "cell_type": "markdown",
   "id": "3470b53e-d30d-4452-8000-804e790ab5b0",
   "metadata": {},
   "source": [
    "En primer lugar, importamos las librerías que vamos a necesitar"
   ]
  },
  {
   "cell_type": "code",
   "execution_count": 1,
   "id": "9e1d9ab9-97fc-4da6-b91e-dc47ed02f469",
   "metadata": {},
   "outputs": [],
   "source": [
    "import pandas as pd\n",
    "import math\n",
    "from fractions import Fraction \n",
    "import numpy as np"
   ]
  },
  {
   "cell_type": "markdown",
   "id": "1410640a-8f2f-47ed-a35e-48b5432a50f7",
   "metadata": {},
   "source": [
    "Definimos la función que calcula la entropia"
   ]
  },
  {
   "cell_type": "code",
   "execution_count": 2,
   "id": "a808f56d-f237-489b-8c88-8580055a3dda",
   "metadata": {},
   "outputs": [],
   "source": [
    "def cantidad_informacion(prob_xi):\n",
    "    return -math.log(prob_xi,2)"
   ]
  },
  {
   "cell_type": "code",
   "execution_count": 3,
   "id": "828aff18-9b4b-44c5-b9e3-3d9fb45bf93a",
   "metadata": {},
   "outputs": [],
   "source": [
    "def entropia (problist):\n",
    "   ci_ponderada=[]\n",
    "   for prob_xi in problist.values():\n",
    "       ci_ponderada.append(prob_xi*(cantidad_informacion(prob_xi)))\n",
    "   return np.sum(ci_ponderada)"
   ]
  },
  {
   "cell_type": "markdown",
   "id": "da9a796f-4f25-438a-8735-a22ecb5d9548",
   "metadata": {},
   "source": [
    "Leemos los datos de entrenamiento"
   ]
  },
  {
   "cell_type": "code",
   "execution_count": 4,
   "id": "137169ba-2b52-47bf-9015-82d507b6093f",
   "metadata": {},
   "outputs": [
    {
     "data": {
      "text/html": [
       "<div>\n",
       "<style scoped>\n",
       "    .dataframe tbody tr th:only-of-type {\n",
       "        vertical-align: middle;\n",
       "    }\n",
       "\n",
       "    .dataframe tbody tr th {\n",
       "        vertical-align: top;\n",
       "    }\n",
       "\n",
       "    .dataframe thead th {\n",
       "        text-align: right;\n",
       "    }\n",
       "</style>\n",
       "<table border=\"1\" class=\"dataframe\">\n",
       "  <thead>\n",
       "    <tr style=\"text-align: right;\">\n",
       "      <th></th>\n",
       "      <th>tiempo</th>\n",
       "      <th>horario</th>\n",
       "      <th>compañia</th>\n",
       "      <th>situacion_economica</th>\n",
       "      <th>plan</th>\n",
       "      <th>salida</th>\n",
       "    </tr>\n",
       "  </thead>\n",
       "  <tbody>\n",
       "    <tr>\n",
       "      <th>0</th>\n",
       "      <td>lluvia</td>\n",
       "      <td>dia</td>\n",
       "      <td>amigos</td>\n",
       "      <td>buena</td>\n",
       "      <td>raciones</td>\n",
       "      <td>si</td>\n",
       "    </tr>\n",
       "    <tr>\n",
       "      <th>1</th>\n",
       "      <td>sol</td>\n",
       "      <td>dia</td>\n",
       "      <td>amigos</td>\n",
       "      <td>regular</td>\n",
       "      <td>raciones</td>\n",
       "      <td>si</td>\n",
       "    </tr>\n",
       "    <tr>\n",
       "      <th>2</th>\n",
       "      <td>sol</td>\n",
       "      <td>dia</td>\n",
       "      <td>amigos</td>\n",
       "      <td>regular</td>\n",
       "      <td>tapas</td>\n",
       "      <td>si</td>\n",
       "    </tr>\n",
       "    <tr>\n",
       "      <th>3</th>\n",
       "      <td>sol</td>\n",
       "      <td>noche</td>\n",
       "      <td>amigos</td>\n",
       "      <td>mala</td>\n",
       "      <td>tapas</td>\n",
       "      <td>si</td>\n",
       "    </tr>\n",
       "    <tr>\n",
       "      <th>4</th>\n",
       "      <td>sol</td>\n",
       "      <td>noche</td>\n",
       "      <td>amigos</td>\n",
       "      <td>regular</td>\n",
       "      <td>tapas</td>\n",
       "      <td>si</td>\n",
       "    </tr>\n",
       "  </tbody>\n",
       "</table>\n",
       "</div>"
      ],
      "text/plain": [
       "   tiempo horario compañia situacion_economica      plan salida\n",
       "0  lluvia     dia   amigos               buena  raciones     si\n",
       "1     sol     dia   amigos             regular  raciones     si\n",
       "2     sol     dia   amigos             regular     tapas     si\n",
       "3     sol   noche   amigos                mala     tapas     si\n",
       "4     sol   noche   amigos             regular     tapas     si"
      ]
     },
     "execution_count": 4,
     "metadata": {},
     "output_type": "execute_result"
    }
   ],
   "source": [
    "df=pd.read_csv(\"/home/sukete/python/ml_clases/ejemplo_arbol_decision.csv\",delimiter='|')\n",
    "df.head()"
   ]
  },
  {
   "cell_type": "code",
   "execution_count": 5,
   "id": "c318283c-a7df-40db-87f9-160838536f8a",
   "metadata": {},
   "outputs": [
    {
     "name": "stdout",
     "output_type": "stream",
     "text": [
      "<class 'pandas.core.frame.DataFrame'>\n",
      "RangeIndex: 22 entries, 0 to 21\n",
      "Data columns (total 6 columns):\n",
      " #   Column               Non-Null Count  Dtype \n",
      "---  ------               --------------  ----- \n",
      " 0   tiempo               22 non-null     object\n",
      " 1   horario              22 non-null     object\n",
      " 2   compañia             22 non-null     object\n",
      " 3   situacion_economica  22 non-null     object\n",
      " 4   plan                 22 non-null     object\n",
      " 5   salida               22 non-null     object\n",
      "dtypes: object(6)\n",
      "memory usage: 1.2+ KB\n"
     ]
    }
   ],
   "source": [
    "df.info()"
   ]
  },
  {
   "cell_type": "markdown",
   "id": "6898898a-5875-4867-a0ac-f7dd00d1920d",
   "metadata": {},
   "source": [
    "## Determinamos los atributos y sus valores únicos"
   ]
  },
  {
   "cell_type": "code",
   "execution_count": 6,
   "id": "3e5769eb-25c5-4f26-9be6-d0d84fd8d467",
   "metadata": {},
   "outputs": [
    {
     "name": "stdout",
     "output_type": "stream",
     "text": [
      "tiempo:['lluvia' 'sol']\n",
      "horario:['dia' 'noche']\n",
      "compañia:['amigos' 'pareja']\n",
      "situacion_economica:['buena' 'regular' 'mala']\n",
      "plan:['raciones' 'tapas' 'restaurante']\n",
      "salida:['si' 'no']\n"
     ]
    }
   ],
   "source": [
    "for attr in df.columns.values:\n",
    "    print(attr+\":\"+str(df[attr].unique()))"
   ]
  },
  {
   "cell_type": "markdown",
   "id": "7f2c36dc-d94d-45be-b9ef-cb1674733b27",
   "metadata": {},
   "source": [
    "## Comenzamos a ejecutar el algoritmo"
   ]
  },
  {
   "cell_type": "markdown",
   "id": "f341c563-db69-4e72-aff0-3ec20e670043",
   "metadata": {},
   "source": [
    "En primer lugar, calculamos la entropia total del conjunto de datos"
   ]
  },
  {
   "cell_type": "code",
   "execution_count": 7,
   "id": "f0c816e9-d0e8-480e-9043-1af974c38dff",
   "metadata": {},
   "outputs": [
    {
     "name": "stdout",
     "output_type": "stream",
     "text": [
      "La entropia E(S) es 0.7732266742876346\n"
     ]
    }
   ],
   "source": [
    "def entropia_total (df):\n",
    "    problist={}\n",
    "    tam_muestra=len(df['salida'])\n",
    "    for suceso in df['salida']:\n",
    "      if suceso in problist:\n",
    "            problist[suceso]=problist[suceso]+Fraction(1,tam_muestra)\n",
    "      else:    \n",
    "            problist[suceso]=Fraction(1,tam_muestra)\n",
    "    return entropia(problist)\n",
    "ES=entropia_total(df)\n",
    "print (\"La entropia E(S) es \"+str(ES))"
   ]
  },
  {
   "cell_type": "markdown",
   "id": "c16f8c50-e557-4ccc-9b7a-76284d301e65",
   "metadata": {},
   "source": [
    "Calculamos el peso de cada atributo"
   ]
  },
  {
   "cell_type": "code",
   "execution_count": 8,
   "id": "e357d6b0-95fe-40f1-94bc-8bd47b8a9141",
   "metadata": {},
   "outputs": [
    {
     "name": "stdout",
     "output_type": "stream",
     "text": [
      "{'tiempo': {'lluvia': Fraction(9, 22), 'sol': Fraction(13, 22)}, 'horario': {'dia': Fraction(9, 22), 'noche': Fraction(13, 22)}, 'compañia': {'amigos': Fraction(13, 22), 'pareja': Fraction(9, 22)}, 'situacion_economica': {'buena': Fraction(4, 11), 'regular': Fraction(9, 22), 'mala': Fraction(5, 22)}, 'plan': {'raciones': Fraction(5, 22), 'tapas': Fraction(4, 11), 'restaurante': Fraction(9, 22)}, 'salida': {'si': Fraction(17, 22), 'no': Fraction(5, 22)}}\n"
     ]
    }
   ],
   "source": [
    "S={}\n",
    "for attr in df.columns.values:\n",
    "    problist={}\n",
    "    tam_muestra=len(df[attr])\n",
    "    for suceso in df[attr]:\n",
    "        if suceso in problist:\n",
    "            problist[suceso]=problist[suceso]+Fraction(1,tam_muestra)\n",
    "        else:    \n",
    "            problist[suceso]=Fraction(1,tam_muestra)\n",
    "    S[attr]=problist\n",
    "print(S)"
   ]
  },
  {
   "cell_type": "markdown",
   "id": "a2608cbd-51a0-4d9f-8d80-0e668cd1b569",
   "metadata": {},
   "source": [
    "Ahora calculamos el ratio de ganacia de la información para el atributo 'tiempo'"
   ]
  },
  {
   "cell_type": "code",
   "execution_count": 9,
   "id": "ce2cc03a-ce1f-4d82-a89c-f7b8a021d0f1",
   "metadata": {},
   "outputs": [
    {
     "name": "stdout",
     "output_type": "stream",
     "text": [
      "S_lluvia: {'si': Fraction(2, 3), 'no': Fraction(1, 3)}\n",
      "S_sol: {'si': Fraction(11, 13), 'no': Fraction(2, 13)}\n",
      "La entropia E(S_lluvia): 0.9182958340544896\n",
      "La entropia E(S_sol): 0.6193821946787638\n"
     ]
    }
   ],
   "source": [
    "Ent={}\n",
    "for valor in df['tiempo'].unique():\n",
    " problist={}\n",
    " tam_muestra=len(df.loc[df['tiempo']==valor]['salida'])\n",
    " for suceso in df.loc[df['tiempo']==valor]['salida']:\n",
    "    if suceso in problist:\n",
    "            problist[suceso]=problist[suceso]+Fraction(1,tam_muestra)\n",
    "    else:    \n",
    "            problist[suceso]=Fraction(1,tam_muestra)\n",
    " print(\"S_\"+valor+\": \"+str(problist))\n",
    " Ent[valor]=entropia(problist)\n",
    "for valor in df['tiempo'].unique():\n",
    " print (\"La entropia E(S_\"+valor+\"): \"+str(Ent[valor]))"
   ]
  },
  {
   "cell_type": "code",
   "execution_count": 10,
   "id": "5237e717-f9ff-4ab4-b9db-c1a9387a1553",
   "metadata": {},
   "outputs": [
    {
     "name": "stdout",
     "output_type": "stream",
     "text": [
      "El ratio de ganancia de informacion del atributo tiempo es:0.03156162713698296\n"
     ]
    }
   ],
   "source": [
    "Ganancia=ES-S['tiempo']['lluvia']*Ent['lluvia']-S['tiempo']['sol']*Ent['sol']\n",
    "print (\"El ratio de ganancia de informacion del atributo tiempo es:\" + str(Ganancia))"
   ]
  },
  {
   "cell_type": "markdown",
   "id": "2272ac1d-3928-45e5-8649-6c873e78dac4",
   "metadata": {},
   "source": [
    "Ahora calculamos el valor de la ganancia de información de cada atributo"
   ]
  },
  {
   "cell_type": "code",
   "execution_count": 12,
   "id": "8283b586-c9d5-4d88-8fc9-f71efdd20b2f",
   "metadata": {},
   "outputs": [
    {
     "name": "stdout",
     "output_type": "stream",
     "text": [
      "El ratio de ganancia de informacion del atributo tiempo es:0.03156162713698296\n",
      "El ratio de ganancia de informacion del atributo horario es:0.04114865902244358\n",
      "El ratio de ganancia de informacion del atributo compañia es:0.041148659022443634\n",
      "El ratio de ganancia de informacion del atributo situacion_economica es:0.14901787743077435\n",
      "El ratio de ganancia de informacion del atributo plan es:0.20371190097032488\n"
     ]
    }
   ],
   "source": [
    "for attr in df.columns[:-1].values:\n",
    " Ent={}\n",
    " Ganancia=ES\n",
    " for valor in df[attr].unique():\n",
    "  problist={}\n",
    "  tam_muestra=len(df.loc[df[attr]==valor]['salida'])\n",
    "  for suceso in df.loc[df[attr]==valor]['salida']:\n",
    "    if suceso in problist:\n",
    "            problist[suceso]=problist[suceso]+Fraction(1,tam_muestra)\n",
    "    else:    \n",
    "            problist[suceso]=Fraction(1,tam_muestra)\n",
    "  Ganancia=Ganancia-S[attr][valor]*entropia(problist)\n",
    " print (\"El ratio de ganancia de informacion del atributo \"+attr+\" es:\" + str(Ganancia))"
   ]
  },
  {
   "cell_type": "markdown",
   "id": "eaea5ea7-4183-4f9e-8a4e-7be716711505",
   "metadata": {},
   "source": [
    "El atributo que mayor ganacia aporta es 'plan', por lo que lo vamos a colocar como primer nodo del arbol"
   ]
  },
  {
   "cell_type": "markdown",
   "id": "e8697a26-f18e-44dc-8ac3-dcf2a00241ae",
   "metadata": {},
   "source": [
    "### Repetimos el proceso para cada uno de los nodos generados en la primera iteracion"
   ]
  },
  {
   "cell_type": "markdown",
   "id": "7633ebbb-4ffc-4d54-8b53-2bd32b82f0c7",
   "metadata": {},
   "source": [
    "Vemos como seguiria el proceso para el nodo a partir de valor del campo 'plan' igual a tapas"
   ]
  },
  {
   "cell_type": "code",
   "execution_count": 13,
   "id": "dc3326f1-8bc4-4a18-b5f9-5cb4d6d3e370",
   "metadata": {},
   "outputs": [
    {
     "data": {
      "text/html": [
       "<div>\n",
       "<style scoped>\n",
       "    .dataframe tbody tr th:only-of-type {\n",
       "        vertical-align: middle;\n",
       "    }\n",
       "\n",
       "    .dataframe tbody tr th {\n",
       "        vertical-align: top;\n",
       "    }\n",
       "\n",
       "    .dataframe thead th {\n",
       "        text-align: right;\n",
       "    }\n",
       "</style>\n",
       "<table border=\"1\" class=\"dataframe\">\n",
       "  <thead>\n",
       "    <tr style=\"text-align: right;\">\n",
       "      <th></th>\n",
       "      <th>tiempo</th>\n",
       "      <th>horario</th>\n",
       "      <th>compañia</th>\n",
       "      <th>situacion_economica</th>\n",
       "      <th>salida</th>\n",
       "    </tr>\n",
       "  </thead>\n",
       "  <tbody>\n",
       "    <tr>\n",
       "      <th>2</th>\n",
       "      <td>sol</td>\n",
       "      <td>dia</td>\n",
       "      <td>amigos</td>\n",
       "      <td>regular</td>\n",
       "      <td>si</td>\n",
       "    </tr>\n",
       "    <tr>\n",
       "      <th>3</th>\n",
       "      <td>sol</td>\n",
       "      <td>noche</td>\n",
       "      <td>amigos</td>\n",
       "      <td>mala</td>\n",
       "      <td>si</td>\n",
       "    </tr>\n",
       "    <tr>\n",
       "      <th>4</th>\n",
       "      <td>sol</td>\n",
       "      <td>noche</td>\n",
       "      <td>amigos</td>\n",
       "      <td>regular</td>\n",
       "      <td>si</td>\n",
       "    </tr>\n",
       "    <tr>\n",
       "      <th>8</th>\n",
       "      <td>sol</td>\n",
       "      <td>dia</td>\n",
       "      <td>pareja</td>\n",
       "      <td>mala</td>\n",
       "      <td>si</td>\n",
       "    </tr>\n",
       "    <tr>\n",
       "      <th>18</th>\n",
       "      <td>lluvia</td>\n",
       "      <td>dia</td>\n",
       "      <td>amigos</td>\n",
       "      <td>regular</td>\n",
       "      <td>si</td>\n",
       "    </tr>\n",
       "  </tbody>\n",
       "</table>\n",
       "</div>"
      ],
      "text/plain": [
       "    tiempo horario compañia situacion_economica salida\n",
       "2      sol     dia   amigos             regular     si\n",
       "3      sol   noche   amigos                mala     si\n",
       "4      sol   noche   amigos             regular     si\n",
       "8      sol     dia   pareja                mala     si\n",
       "18  lluvia     dia   amigos             regular     si"
      ]
     },
     "execution_count": 13,
     "metadata": {},
     "output_type": "execute_result"
    }
   ],
   "source": [
    "df_l1_tapas=df.loc[df['plan']=='tapas'].drop(['plan'],axis=1)\n",
    "df_l1_tapas.head()"
   ]
  },
  {
   "cell_type": "markdown",
   "id": "4172f8dd-df5c-4618-abcb-9c6c206e8d3a",
   "metadata": {},
   "source": [
    "Calculamos el ratio de ganancia de informacion para el resto de los atributos"
   ]
  },
  {
   "cell_type": "code",
   "execution_count": 14,
   "id": "5fead494-e0ae-4da2-a669-db906c15f3dc",
   "metadata": {},
   "outputs": [
    {
     "name": "stdout",
     "output_type": "stream",
     "text": [
      "La gananancia de informacion del atributo tiempo es:0.0\n",
      "La gananancia de informacion del atributo horario es:0.0\n",
      "La gananancia de informacion del atributo compañia es:0.0\n",
      "La gananancia de informacion del atributo situacion_economica es:0.0\n"
     ]
    }
   ],
   "source": [
    "for attr in df_l1_tapas.columns[:-1].values:\n",
    " Ent={}\n",
    " Ganancia=entropia_total(df_l1_tapas)\n",
    " for valor in df_l1_tapas[attr].unique():\n",
    "  problist={}\n",
    "  tam_muestra=len(df_l1_tapas.loc[df[attr]==valor]['salida'])\n",
    "  for suceso in df_l1_tapas.loc[df_l1_tapas[attr]==valor]['salida']:\n",
    "    if suceso in problist:\n",
    "            problist[suceso]=problist[suceso]+Fraction(1,tam_muestra)\n",
    "    else:    \n",
    "            problist[suceso]=Fraction(1,tam_muestra)\n",
    "  Ganancia=Ganancia-S[attr][valor]*entropia(problist)\n",
    " print (\"La gananancia de informacion del atributo \"+attr+\" es:\" + str(Ganancia))"
   ]
  },
  {
   "cell_type": "markdown",
   "id": "5fa10801-3224-4f73-903c-38825b2bd0a0",
   "metadata": {},
   "source": [
    "Ahora, de forma general, calculamos la ganancia de información para cada uno de los nodos del siguiente nivel del arbol"
   ]
  },
  {
   "cell_type": "code",
   "execution_count": 16,
   "id": "d9b60e94-e11d-4e3a-933e-3f2c897a5f40",
   "metadata": {},
   "outputs": [
    {
     "name": "stdout",
     "output_type": "stream",
     "text": [
      "Calculo Gancia de información para el nodo raciones\n",
      "    tiempo horario compañia situacion_economica salida\n",
      "0   lluvia     dia   amigos               buena     si\n",
      "1      sol     dia   amigos             regular     si\n",
      "7   lluvia   noche   pareja                mala     no\n",
      "11     sol   noche   pareja             regular     si\n",
      "12  lluvia   noche   amigos             regular     si\n",
      "La ganancia de informacion del atributo tiempo es:0.17095059445466865\n",
      "La ganancia de informacion del atributo horario es:0.17095059445466865\n",
      "La ganancia de informacion del atributo compañia es:0.3219280948873623\n",
      "La ganancia de informacion del atributo situacion_economica es:0.7219280948873623\n",
      "Calculo Gancia de información para el nodo tapas\n",
      "    tiempo horario compañia situacion_economica salida\n",
      "2      sol     dia   amigos             regular     si\n",
      "3      sol   noche   amigos                mala     si\n",
      "4      sol   noche   amigos             regular     si\n",
      "8      sol     dia   pareja                mala     si\n",
      "18  lluvia     dia   amigos             regular     si\n",
      "19  lluvia   noche   amigos               buena     si\n",
      "20     sol     dia   pareja               buena     si\n",
      "21     sol     dia   pareja             regular     si\n",
      "La ganancia de informacion del atributo tiempo es:0.0\n",
      "La ganancia de informacion del atributo horario es:0.0\n",
      "La ganancia de informacion del atributo compañia es:0.0\n",
      "La ganancia de informacion del atributo situacion_economica es:0.0\n",
      "Calculo Gancia de información para el nodo restaurante\n",
      "    tiempo horario compañia situacion_economica salida\n",
      "5   lluvia   noche   amigos                mala     no\n",
      "6      sol   noche   amigos                mala     no\n",
      "9      sol     dia   pareja               buena     si\n",
      "10     sol   noche   pareja               buena     si\n",
      "13  lluvia   noche   pareja             regular     si\n",
      "14  lluvia   noche   pareja               buena     si\n",
      "15  lluvia   noche   amigos               buena     no\n",
      "16     sol   noche   amigos               buena     si\n",
      "17     sol     dia   amigos             regular     no\n",
      "La ganancia de informacion del atributo tiempo es:0.007214618474517431\n",
      "La ganancia de informacion del atributo horario es:0.0025652873671375698\n",
      "La ganancia de informacion del atributo compañia es:0.5900048960119098\n",
      "La ganancia de informacion del atributo situacion_economica es:0.36778267378968754\n"
     ]
    }
   ],
   "source": [
    "df_l1={}\n",
    "for nodo in df['plan'].unique():\n",
    "    print (\"Calculo Gancia de información para el nodo \"+nodo)\n",
    "    df_l1[nodo]=df.loc[df['plan']==nodo].drop(['plan'],axis=1)\n",
    "    print (df_l1[nodo])\n",
    "    for attr in df_l1[nodo].columns[:-1].values:\n",
    "      Ent={}\n",
    "      Ganancia=entropia_total(df_l1[nodo])\n",
    "      S={}\n",
    "      problist={}\n",
    "      tam_muestra=len(df_l1[nodo][attr])\n",
    "      for suceso in df_l1[nodo][attr]:\n",
    "           if suceso in problist:\n",
    "            problist[suceso]=problist[suceso]+Fraction(1,tam_muestra)\n",
    "           else:    \n",
    "            problist[suceso]=Fraction(1,tam_muestra)\n",
    "      S[attr]=problist\n",
    "      for valor in df_l1[nodo][attr].unique():\n",
    "       problist={}\n",
    "       tam_muestra=len(df_l1[nodo].loc[df_l1[nodo][attr]==valor]['salida'])\n",
    "       for suceso in df_l1[nodo].loc[df_l1[nodo][attr]==valor]['salida']:\n",
    "           if suceso in problist:\n",
    "            problist[suceso]=problist[suceso]+Fraction(1,tam_muestra)\n",
    "           else:    \n",
    "            problist[suceso]=Fraction(1,tam_muestra)\n",
    "       Ganancia=Ganancia-S[attr][valor]*entropia(problist)\n",
    "      print (\"La ganancia de informacion del atributo \"+attr+\" es:\" + str(Ganancia))"
   ]
  },
  {
   "cell_type": "code",
   "execution_count": 17,
   "id": "79ba8f60-57d8-4551-905b-cee1ce88c5cb",
   "metadata": {},
   "outputs": [
    {
     "data": {
      "text/html": [
       "<div>\n",
       "<style scoped>\n",
       "    .dataframe tbody tr th:only-of-type {\n",
       "        vertical-align: middle;\n",
       "    }\n",
       "\n",
       "    .dataframe tbody tr th {\n",
       "        vertical-align: top;\n",
       "    }\n",
       "\n",
       "    .dataframe thead th {\n",
       "        text-align: right;\n",
       "    }\n",
       "</style>\n",
       "<table border=\"1\" class=\"dataframe\">\n",
       "  <thead>\n",
       "    <tr style=\"text-align: right;\">\n",
       "      <th></th>\n",
       "      <th>tiempo</th>\n",
       "      <th>horario</th>\n",
       "      <th>compañia</th>\n",
       "      <th>salida</th>\n",
       "    </tr>\n",
       "  </thead>\n",
       "  <tbody>\n",
       "    <tr>\n",
       "      <th>7</th>\n",
       "      <td>lluvia</td>\n",
       "      <td>noche</td>\n",
       "      <td>pareja</td>\n",
       "      <td>no</td>\n",
       "    </tr>\n",
       "  </tbody>\n",
       "</table>\n",
       "</div>"
      ],
      "text/plain": [
       "   tiempo horario compañia salida\n",
       "7  lluvia   noche   pareja     no"
      ]
     },
     "execution_count": 17,
     "metadata": {},
     "output_type": "execute_result"
    }
   ],
   "source": [
    "df_l2_raciones=df_l1['raciones'].loc[df_l1['raciones']['situacion_economica']=='mala'].drop(['situacion_economica'],axis=1)\n",
    "df_l2_raciones.head()"
   ]
  },
  {
   "cell_type": "code",
   "execution_count": 18,
   "id": "8b2782fb-b2e8-42b2-a2a3-eee8418c851a",
   "metadata": {},
   "outputs": [
    {
     "data": {
      "text/html": [
       "<div>\n",
       "<style scoped>\n",
       "    .dataframe tbody tr th:only-of-type {\n",
       "        vertical-align: middle;\n",
       "    }\n",
       "\n",
       "    .dataframe tbody tr th {\n",
       "        vertical-align: top;\n",
       "    }\n",
       "\n",
       "    .dataframe thead th {\n",
       "        text-align: right;\n",
       "    }\n",
       "</style>\n",
       "<table border=\"1\" class=\"dataframe\">\n",
       "  <thead>\n",
       "    <tr style=\"text-align: right;\">\n",
       "      <th></th>\n",
       "      <th>tiempo</th>\n",
       "      <th>horario</th>\n",
       "      <th>compañia</th>\n",
       "      <th>salida</th>\n",
       "    </tr>\n",
       "  </thead>\n",
       "  <tbody>\n",
       "    <tr>\n",
       "      <th>1</th>\n",
       "      <td>sol</td>\n",
       "      <td>dia</td>\n",
       "      <td>amigos</td>\n",
       "      <td>si</td>\n",
       "    </tr>\n",
       "    <tr>\n",
       "      <th>11</th>\n",
       "      <td>sol</td>\n",
       "      <td>noche</td>\n",
       "      <td>pareja</td>\n",
       "      <td>si</td>\n",
       "    </tr>\n",
       "    <tr>\n",
       "      <th>12</th>\n",
       "      <td>lluvia</td>\n",
       "      <td>noche</td>\n",
       "      <td>amigos</td>\n",
       "      <td>si</td>\n",
       "    </tr>\n",
       "  </tbody>\n",
       "</table>\n",
       "</div>"
      ],
      "text/plain": [
       "    tiempo horario compañia salida\n",
       "1      sol     dia   amigos     si\n",
       "11     sol   noche   pareja     si\n",
       "12  lluvia   noche   amigos     si"
      ]
     },
     "execution_count": 18,
     "metadata": {},
     "output_type": "execute_result"
    }
   ],
   "source": [
    "df_l2_raciones=df_l1['raciones'].loc[df_l1['raciones']['situacion_economica']=='regular'].drop(['situacion_economica'],axis=1)\n",
    "df_l2_raciones.head()"
   ]
  },
  {
   "cell_type": "code",
   "execution_count": 19,
   "id": "c4f72eb7-19ce-4f1d-92e5-927d4af7dfe7",
   "metadata": {},
   "outputs": [
    {
     "data": {
      "text/html": [
       "<div>\n",
       "<style scoped>\n",
       "    .dataframe tbody tr th:only-of-type {\n",
       "        vertical-align: middle;\n",
       "    }\n",
       "\n",
       "    .dataframe tbody tr th {\n",
       "        vertical-align: top;\n",
       "    }\n",
       "\n",
       "    .dataframe thead th {\n",
       "        text-align: right;\n",
       "    }\n",
       "</style>\n",
       "<table border=\"1\" class=\"dataframe\">\n",
       "  <thead>\n",
       "    <tr style=\"text-align: right;\">\n",
       "      <th></th>\n",
       "      <th>tiempo</th>\n",
       "      <th>horario</th>\n",
       "      <th>compañia</th>\n",
       "      <th>salida</th>\n",
       "    </tr>\n",
       "  </thead>\n",
       "  <tbody>\n",
       "    <tr>\n",
       "      <th>0</th>\n",
       "      <td>lluvia</td>\n",
       "      <td>dia</td>\n",
       "      <td>amigos</td>\n",
       "      <td>si</td>\n",
       "    </tr>\n",
       "  </tbody>\n",
       "</table>\n",
       "</div>"
      ],
      "text/plain": [
       "   tiempo horario compañia salida\n",
       "0  lluvia     dia   amigos     si"
      ]
     },
     "execution_count": 19,
     "metadata": {},
     "output_type": "execute_result"
    }
   ],
   "source": [
    "df_l2_raciones=df_l1['raciones'].loc[df_l1['raciones']['situacion_economica']=='buena'].drop(['situacion_economica'],axis=1)\n",
    "df_l2_raciones.head()"
   ]
  },
  {
   "cell_type": "code",
   "execution_count": 20,
   "id": "c79cfc52-c036-447a-9873-8a286bfcf178",
   "metadata": {},
   "outputs": [
    {
     "data": {
      "text/html": [
       "<div>\n",
       "<style scoped>\n",
       "    .dataframe tbody tr th:only-of-type {\n",
       "        vertical-align: middle;\n",
       "    }\n",
       "\n",
       "    .dataframe tbody tr th {\n",
       "        vertical-align: top;\n",
       "    }\n",
       "\n",
       "    .dataframe thead th {\n",
       "        text-align: right;\n",
       "    }\n",
       "</style>\n",
       "<table border=\"1\" class=\"dataframe\">\n",
       "  <thead>\n",
       "    <tr style=\"text-align: right;\">\n",
       "      <th></th>\n",
       "      <th>tiempo</th>\n",
       "      <th>horario</th>\n",
       "      <th>situacion_economica</th>\n",
       "      <th>salida</th>\n",
       "    </tr>\n",
       "  </thead>\n",
       "  <tbody>\n",
       "    <tr>\n",
       "      <th>9</th>\n",
       "      <td>sol</td>\n",
       "      <td>dia</td>\n",
       "      <td>buena</td>\n",
       "      <td>si</td>\n",
       "    </tr>\n",
       "    <tr>\n",
       "      <th>10</th>\n",
       "      <td>sol</td>\n",
       "      <td>noche</td>\n",
       "      <td>buena</td>\n",
       "      <td>si</td>\n",
       "    </tr>\n",
       "    <tr>\n",
       "      <th>13</th>\n",
       "      <td>lluvia</td>\n",
       "      <td>noche</td>\n",
       "      <td>regular</td>\n",
       "      <td>si</td>\n",
       "    </tr>\n",
       "    <tr>\n",
       "      <th>14</th>\n",
       "      <td>lluvia</td>\n",
       "      <td>noche</td>\n",
       "      <td>buena</td>\n",
       "      <td>si</td>\n",
       "    </tr>\n",
       "  </tbody>\n",
       "</table>\n",
       "</div>"
      ],
      "text/plain": [
       "    tiempo horario situacion_economica salida\n",
       "9      sol     dia               buena     si\n",
       "10     sol   noche               buena     si\n",
       "13  lluvia   noche             regular     si\n",
       "14  lluvia   noche               buena     si"
      ]
     },
     "execution_count": 20,
     "metadata": {},
     "output_type": "execute_result"
    }
   ],
   "source": [
    "df_l2_restaurante=df_l1['restaurante'].loc[df_l1['restaurante']['compañia']=='pareja'].drop(['compañia'],axis=1)\n",
    "df_l2_restaurante.head()"
   ]
  },
  {
   "cell_type": "code",
   "execution_count": 21,
   "id": "0d8d801c-ac89-4dd5-bbce-4efa95b95304",
   "metadata": {},
   "outputs": [
    {
     "data": {
      "text/html": [
       "<div>\n",
       "<style scoped>\n",
       "    .dataframe tbody tr th:only-of-type {\n",
       "        vertical-align: middle;\n",
       "    }\n",
       "\n",
       "    .dataframe tbody tr th {\n",
       "        vertical-align: top;\n",
       "    }\n",
       "\n",
       "    .dataframe thead th {\n",
       "        text-align: right;\n",
       "    }\n",
       "</style>\n",
       "<table border=\"1\" class=\"dataframe\">\n",
       "  <thead>\n",
       "    <tr style=\"text-align: right;\">\n",
       "      <th></th>\n",
       "      <th>tiempo</th>\n",
       "      <th>horario</th>\n",
       "      <th>situacion_economica</th>\n",
       "      <th>salida</th>\n",
       "    </tr>\n",
       "  </thead>\n",
       "  <tbody>\n",
       "    <tr>\n",
       "      <th>5</th>\n",
       "      <td>lluvia</td>\n",
       "      <td>noche</td>\n",
       "      <td>mala</td>\n",
       "      <td>no</td>\n",
       "    </tr>\n",
       "    <tr>\n",
       "      <th>6</th>\n",
       "      <td>sol</td>\n",
       "      <td>noche</td>\n",
       "      <td>mala</td>\n",
       "      <td>no</td>\n",
       "    </tr>\n",
       "    <tr>\n",
       "      <th>15</th>\n",
       "      <td>lluvia</td>\n",
       "      <td>noche</td>\n",
       "      <td>buena</td>\n",
       "      <td>no</td>\n",
       "    </tr>\n",
       "    <tr>\n",
       "      <th>16</th>\n",
       "      <td>sol</td>\n",
       "      <td>noche</td>\n",
       "      <td>buena</td>\n",
       "      <td>si</td>\n",
       "    </tr>\n",
       "    <tr>\n",
       "      <th>17</th>\n",
       "      <td>sol</td>\n",
       "      <td>dia</td>\n",
       "      <td>regular</td>\n",
       "      <td>no</td>\n",
       "    </tr>\n",
       "  </tbody>\n",
       "</table>\n",
       "</div>"
      ],
      "text/plain": [
       "    tiempo horario situacion_economica salida\n",
       "5   lluvia   noche                mala     no\n",
       "6      sol   noche                mala     no\n",
       "15  lluvia   noche               buena     no\n",
       "16     sol   noche               buena     si\n",
       "17     sol     dia             regular     no"
      ]
     },
     "execution_count": 21,
     "metadata": {},
     "output_type": "execute_result"
    }
   ],
   "source": [
    "df_l2_restaurante=df_l1['restaurante'].loc[df_l1['restaurante']['compañia']=='amigos'].drop(['compañia'],axis=1)\n",
    "df_l2_restaurante.head()"
   ]
  },
  {
   "cell_type": "code",
   "execution_count": null,
   "id": "a36dcb29-d0a5-472f-980f-2901c757d5e0",
   "metadata": {},
   "outputs": [],
   "source": []
  },
  {
   "cell_type": "code",
   "execution_count": null,
   "id": "fbfaa001-78ab-4a2a-9626-84942d506b68",
   "metadata": {},
   "outputs": [],
   "source": []
  }
 ],
 "metadata": {
  "kernelspec": {
   "display_name": "Python 3 (ipykernel)",
   "language": "python",
   "name": "python3"
  },
  "language_info": {
   "codemirror_mode": {
    "name": "ipython",
    "version": 3
   },
   "file_extension": ".py",
   "mimetype": "text/x-python",
   "name": "python",
   "nbconvert_exporter": "python",
   "pygments_lexer": "ipython3",
   "version": "3.10.12"
  }
 },
 "nbformat": 4,
 "nbformat_minor": 5
}
